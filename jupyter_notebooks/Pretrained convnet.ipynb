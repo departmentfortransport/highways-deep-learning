{
 "cells": [
  {
   "cell_type": "code",
   "execution_count": 1,
   "metadata": {},
   "outputs": [
    {
     "name": "stderr",
     "output_type": "stream",
     "text": [
      "Using TensorFlow backend.\n",
      "/Library/Frameworks/Python.framework/Versions/3.6/lib/python3.6/importlib/_bootstrap.py:219: RuntimeWarning: numpy.dtype size changed, may indicate binary incompatibility. Expected 96, got 88\n",
      "  return f(*args, **kwds)\n",
      "/Library/Frameworks/Python.framework/Versions/3.6/lib/python3.6/importlib/_bootstrap.py:219: RuntimeWarning: numpy.dtype size changed, may indicate binary incompatibility. Expected 96, got 88\n",
      "  return f(*args, **kwds)\n"
     ]
    },
    {
     "name": "stdout",
     "output_type": "stream",
     "text": [
      "_________________________________________________________________\n",
      "Layer (type)                 Output Shape              Param #   \n",
      "=================================================================\n",
      "input_1 (InputLayer)         (None, 150, 150, 3)       0         \n",
      "_________________________________________________________________\n",
      "block1_conv1 (Conv2D)        (None, 150, 150, 64)      1792      \n",
      "_________________________________________________________________\n",
      "block1_conv2 (Conv2D)        (None, 150, 150, 64)      36928     \n",
      "_________________________________________________________________\n",
      "block1_pool (MaxPooling2D)   (None, 75, 75, 64)        0         \n",
      "_________________________________________________________________\n",
      "block2_conv1 (Conv2D)        (None, 75, 75, 128)       73856     \n",
      "_________________________________________________________________\n",
      "block2_conv2 (Conv2D)        (None, 75, 75, 128)       147584    \n",
      "_________________________________________________________________\n",
      "block2_pool (MaxPooling2D)   (None, 37, 37, 128)       0         \n",
      "_________________________________________________________________\n",
      "block3_conv1 (Conv2D)        (None, 37, 37, 256)       295168    \n",
      "_________________________________________________________________\n",
      "block3_conv2 (Conv2D)        (None, 37, 37, 256)       590080    \n",
      "_________________________________________________________________\n",
      "block3_conv3 (Conv2D)        (None, 37, 37, 256)       590080    \n",
      "_________________________________________________________________\n",
      "block3_pool (MaxPooling2D)   (None, 18, 18, 256)       0         \n",
      "_________________________________________________________________\n",
      "block4_conv1 (Conv2D)        (None, 18, 18, 512)       1180160   \n",
      "_________________________________________________________________\n",
      "block4_conv2 (Conv2D)        (None, 18, 18, 512)       2359808   \n",
      "_________________________________________________________________\n",
      "block4_conv3 (Conv2D)        (None, 18, 18, 512)       2359808   \n",
      "_________________________________________________________________\n",
      "block4_pool (MaxPooling2D)   (None, 9, 9, 512)         0         \n",
      "_________________________________________________________________\n",
      "block5_conv1 (Conv2D)        (None, 9, 9, 512)         2359808   \n",
      "_________________________________________________________________\n",
      "block5_conv2 (Conv2D)        (None, 9, 9, 512)         2359808   \n",
      "_________________________________________________________________\n",
      "block5_conv3 (Conv2D)        (None, 9, 9, 512)         2359808   \n",
      "_________________________________________________________________\n",
      "block5_pool (MaxPooling2D)   (None, 4, 4, 512)         0         \n",
      "=================================================================\n",
      "Total params: 14,714,688\n",
      "Trainable params: 14,714,688\n",
      "Non-trainable params: 0\n",
      "_________________________________________________________________\n"
     ]
    }
   ],
   "source": [
    "## example using the pretrained convnet\n",
    "from keras.applications import VGG16\n",
    "\n",
    "conv_base = VGG16(weights='imagenet',\n",
    "                 include_top=False,\n",
    "                 input_shape=(150, 150, 3))\n",
    "\n",
    "conv_base.summary()"
   ]
  },
  {
   "cell_type": "markdown",
   "metadata": {},
   "source": [
    "# Two approaches\n",
    "\n",
    "Running the convolutional base over your dataset will be fast, but won't allow data augmentation.\n",
    "\n",
    "Or\n",
    "\n",
    "Extending the model you have (conv_base) by adding Dense layers on top and running the whole thing end to end on the input data. This will allow data augmentation but is expensive.\n",
    "\n",
    "## Fast feature extraction without data augmentation\n",
    "Using the ImageDataGenerator to extract images as Numpy arrays as well as their labels."
   ]
  },
  {
   "cell_type": "code",
   "execution_count": 2,
   "metadata": {},
   "outputs": [
    {
     "name": "stdout",
     "output_type": "stream",
     "text": [
      "Found 2000 images belonging to 2 classes.\n",
      "Found 1000 images belonging to 2 classes.\n",
      "Found 1000 images belonging to 2 classes.\n"
     ]
    }
   ],
   "source": [
    "import os\n",
    "import numpy as np\n",
    "from keras.preprocessing.image import ImageDataGenerator\n",
    "\n",
    "base_dir = '/Users/datascience4/Documents/cats_and_dogs_small'\n",
    "\n",
    "train_dir = os.path.join(base_dir, 'train')\n",
    "validation_dir = os.path.join(base_dir, 'validation')\n",
    "test_dir = os.path.join(base_dir, 'test')\n",
    "\n",
    "datagen = ImageDataGenerator(rescale=1./255)\n",
    "batch_size = 20\n",
    "\n",
    "def extract_features(directory, sample_count):\n",
    "    features = np.zeros(shape=(sample_count, 4, 4, 512))\n",
    "    labels = np.zeros(shape=(sample_count))\n",
    "    generator = datagen.flow_from_directory(\n",
    "        directory,\n",
    "        target_size=(150, 150),\n",
    "        batch_size=batch_size,\n",
    "        class_mode='binary')\n",
    "    i = 0\n",
    "    for inputs_batch, labels_batch in generator:\n",
    "        features_batch = conv_base.predict(inputs_batch)\n",
    "        features[i * batch_size : (i + 1) * batch_size] = features_batch\n",
    "        labels[i * batch_size : (i + 1) * batch_size] = labels_batch\n",
    "        i += 1\n",
    "        if i * batch_size >= sample_count:\n",
    "            # Note that since generators yield data indefinitely in a loop,\n",
    "            # we must `break` after every image has been seen once.\n",
    "            break\n",
    "    return features, labels\n",
    "\n",
    "train_features, train_labels = extract_features(train_dir, 2000)\n",
    "validation_features, validation_labels = extract_features(validation_dir, 1000)\n",
    "test_features, test_labels = extract_features(test_dir, 1000)"
   ]
  },
  {
   "cell_type": "code",
   "execution_count": 3,
   "metadata": {},
   "outputs": [
    {
     "name": "stdout",
     "output_type": "stream",
     "text": [
      "(1000, 4, 4, 512)\n"
     ]
    }
   ],
   "source": [
    "print(validation_features.shape)"
   ]
  },
  {
   "cell_type": "code",
   "execution_count": 4,
   "metadata": {},
   "outputs": [
    {
     "name": "stdout",
     "output_type": "stream",
     "text": [
      "(1000, 8192)\n"
     ]
    }
   ],
   "source": [
    "## feed them into a dense layer of 8192\n",
    "train_features = np.reshape(train_features, (2000, 4 * 4 * 512))\n",
    "validation_features = np.reshape(validation_features, (1000, 4 * 4 * 512))\n",
    "test_features = np.reshape(test_features, (1000, 4 * 4 * 512))\n",
    "\n",
    "print(validation_features.shape)"
   ]
  },
  {
   "cell_type": "code",
   "execution_count": 5,
   "metadata": {},
   "outputs": [
    {
     "name": "stdout",
     "output_type": "stream",
     "text": [
      "Train on 2000 samples, validate on 1000 samples\n",
      "Epoch 1/30\n",
      "2000/2000 [==============================] - 2s 832us/step - loss: 0.6479 - acc: 0.6370 - val_loss: 0.4650 - val_acc: 0.8070\n",
      "Epoch 2/30\n",
      "2000/2000 [==============================] - 1s 616us/step - loss: 0.4427 - acc: 0.8060 - val_loss: 0.3752 - val_acc: 0.8410\n",
      "Epoch 3/30\n",
      "2000/2000 [==============================] - 1s 614us/step - loss: 0.3626 - acc: 0.8440 - val_loss: 0.3361 - val_acc: 0.8550\n",
      "Epoch 4/30\n",
      "2000/2000 [==============================] - 1s 626us/step - loss: 0.3164 - acc: 0.8735 - val_loss: 0.3122 - val_acc: 0.8630\n",
      "Epoch 5/30\n",
      "2000/2000 [==============================] - 1s 643us/step - loss: 0.2901 - acc: 0.8790 - val_loss: 0.3026 - val_acc: 0.8690\n",
      "Epoch 6/30\n",
      "2000/2000 [==============================] - 1s 623us/step - loss: 0.2630 - acc: 0.8925 - val_loss: 0.2874 - val_acc: 0.8720\n",
      "Epoch 7/30\n",
      "2000/2000 [==============================] - 1s 634us/step - loss: 0.2481 - acc: 0.9000 - val_loss: 0.2812 - val_acc: 0.8800\n",
      "Epoch 8/30\n",
      "2000/2000 [==============================] - 1s 641us/step - loss: 0.2303 - acc: 0.9115 - val_loss: 0.2798 - val_acc: 0.8750\n",
      "Epoch 9/30\n",
      "2000/2000 [==============================] - 1s 611us/step - loss: 0.2190 - acc: 0.9195 - val_loss: 0.2699 - val_acc: 0.8840\n",
      "Epoch 10/30\n",
      "2000/2000 [==============================] - 1s 612us/step - loss: 0.2105 - acc: 0.9245 - val_loss: 0.2668 - val_acc: 0.8840\n",
      "Epoch 11/30\n",
      "2000/2000 [==============================] - 1s 601us/step - loss: 0.1951 - acc: 0.9280 - val_loss: 0.2627 - val_acc: 0.8890\n",
      "Epoch 12/30\n",
      "2000/2000 [==============================] - 1s 602us/step - loss: 0.1826 - acc: 0.9365 - val_loss: 0.2646 - val_acc: 0.8830\n",
      "Epoch 13/30\n",
      "2000/2000 [==============================] - 1s 606us/step - loss: 0.1827 - acc: 0.9350 - val_loss: 0.2629 - val_acc: 0.8840\n",
      "Epoch 14/30\n",
      "2000/2000 [==============================] - 1s 605us/step - loss: 0.1731 - acc: 0.9405 - val_loss: 0.2559 - val_acc: 0.8870\n",
      "Epoch 15/30\n",
      "2000/2000 [==============================] - 1s 608us/step - loss: 0.1564 - acc: 0.9450 - val_loss: 0.2549 - val_acc: 0.8900\n",
      "Epoch 16/30\n",
      "2000/2000 [==============================] - 1s 607us/step - loss: 0.1553 - acc: 0.9455 - val_loss: 0.2547 - val_acc: 0.8880\n",
      "Epoch 17/30\n",
      "2000/2000 [==============================] - 1s 606us/step - loss: 0.1512 - acc: 0.9525 - val_loss: 0.2529 - val_acc: 0.8880\n",
      "Epoch 18/30\n",
      "2000/2000 [==============================] - 1s 607us/step - loss: 0.1403 - acc: 0.9510 - val_loss: 0.2518 - val_acc: 0.8900\n",
      "Epoch 19/30\n",
      "2000/2000 [==============================] - 1s 616us/step - loss: 0.1372 - acc: 0.9530 - val_loss: 0.2550 - val_acc: 0.8960\n",
      "Epoch 20/30\n",
      "2000/2000 [==============================] - 1s 607us/step - loss: 0.1309 - acc: 0.9580 - val_loss: 0.2519 - val_acc: 0.8920\n",
      "Epoch 21/30\n",
      "2000/2000 [==============================] - 1s 605us/step - loss: 0.1257 - acc: 0.9545 - val_loss: 0.2505 - val_acc: 0.8940\n",
      "Epoch 22/30\n",
      "2000/2000 [==============================] - 1s 607us/step - loss: 0.1174 - acc: 0.9615 - val_loss: 0.2513 - val_acc: 0.8930\n",
      "Epoch 23/30\n",
      "2000/2000 [==============================] - 1s 611us/step - loss: 0.1161 - acc: 0.9625 - val_loss: 0.2516 - val_acc: 0.8930\n",
      "Epoch 24/30\n",
      "2000/2000 [==============================] - 1s 607us/step - loss: 0.1096 - acc: 0.9640 - val_loss: 0.2519 - val_acc: 0.8930\n",
      "Epoch 25/30\n",
      "2000/2000 [==============================] - 1s 607us/step - loss: 0.1135 - acc: 0.9630 - val_loss: 0.2536 - val_acc: 0.8910\n",
      "Epoch 26/30\n",
      "2000/2000 [==============================] - 1s 604us/step - loss: 0.1008 - acc: 0.9680 - val_loss: 0.2523 - val_acc: 0.8930\n",
      "Epoch 27/30\n",
      "2000/2000 [==============================] - 1s 606us/step - loss: 0.0964 - acc: 0.9705 - val_loss: 0.2515 - val_acc: 0.8920\n",
      "Epoch 28/30\n",
      "2000/2000 [==============================] - 1s 610us/step - loss: 0.0959 - acc: 0.9680 - val_loss: 0.2543 - val_acc: 0.8860\n",
      "Epoch 29/30\n",
      "2000/2000 [==============================] - 1s 608us/step - loss: 0.0916 - acc: 0.9700 - val_loss: 0.2572 - val_acc: 0.8920\n",
      "Epoch 30/30\n",
      "2000/2000 [==============================] - 1s 608us/step - loss: 0.0860 - acc: 0.9765 - val_loss: 0.2529 - val_acc: 0.8870\n"
     ]
    }
   ],
   "source": [
    "## defining and training the densely connected classifier\n",
    "from keras import models\n",
    "from keras import layers\n",
    "from keras import optimizers\n",
    "\n",
    "model = models.Sequential()\n",
    "model.add(layers.Dense(256, activation='relu', input_dim=4 * 4 * 512))\n",
    "model.add(layers.Dropout(0.5))\n",
    "model.add(layers.Dense(1, activation='sigmoid'))\n",
    "model.compile(optimizer=optimizers.RMSprop(lr=2e-5),\n",
    "             loss='binary_crossentropy',\n",
    "             metrics=['acc'])\n",
    "\n",
    "history = model.fit(train_features, train_labels,\n",
    "                   epochs=30,\n",
    "                   batch_size=20,\n",
    "                   validation_data=(validation_features, validation_labels))"
   ]
  },
  {
   "cell_type": "code",
   "execution_count": 6,
   "metadata": {},
   "outputs": [
    {
     "data": {
      "text/plain": [
       "<Figure size 640x480 with 1 Axes>"
      ]
     },
     "metadata": {},
     "output_type": "display_data"
    },
    {
     "data": {
      "text/plain": [
       "<Figure size 640x480 with 1 Axes>"
      ]
     },
     "metadata": {},
     "output_type": "display_data"
    }
   ],
   "source": [
    "import matplotlib.pyplot as plt\n",
    "acc = history.history['acc']\n",
    "val_acc = history.history['val_acc']\n",
    "loss = history.history['loss']\n",
    "val_loss = history.history['val_loss']\n",
    "\n",
    "epochs = range(len(acc))\n",
    "\n",
    "plt.plot(epochs, acc, 'bH', label='Training acc')\n",
    "plt.plot(epochs, val_acc, 'b', label='Validation acc')\n",
    "plt.title('Training and validation accuracy pretrained')\n",
    "plt.legend()\n",
    "\n",
    "plt.figure()\n",
    "\n",
    "plt.plot(epochs, loss, 'bH', label='Training loss')\n",
    "plt.plot(epochs, val_loss, 'b', label='Validation loss')\n",
    "plt.title('Training and validation loss pretrained')\n",
    "plt.legend()\n",
    "\n",
    "plt.show()"
   ]
  },
  {
   "cell_type": "markdown",
   "metadata": {},
   "source": [
    "## Still overfitting\n",
    "The technique above is overfitting from the beginning. Therefore data augmentation would be useful on a small dataset like this but it would now become computationally expensive. Therefore a GPU is recommended from this point onwards.\n",
    "\n",
    "You can the pretrained model to a Sequential model because they behave in a similar way to a layer."
   ]
  },
  {
   "cell_type": "code",
   "execution_count": 7,
   "metadata": {},
   "outputs": [
    {
     "name": "stdout",
     "output_type": "stream",
     "text": [
      "_________________________________________________________________\n",
      "Layer (type)                 Output Shape              Param #   \n",
      "=================================================================\n",
      "vgg16 (Model)                (None, 4, 4, 512)         14714688  \n",
      "_________________________________________________________________\n",
      "flatten_1 (Flatten)          (None, 8192)              0         \n",
      "_________________________________________________________________\n",
      "dense_3 (Dense)              (None, 256)               2097408   \n",
      "_________________________________________________________________\n",
      "dense_4 (Dense)              (None, 1)                 257       \n",
      "=================================================================\n",
      "Total params: 16,812,353\n",
      "Trainable params: 16,812,353\n",
      "Non-trainable params: 0\n",
      "_________________________________________________________________\n"
     ]
    }
   ],
   "source": [
    "## adding a densely connected classifier on top of the convolutional base\n",
    "from keras import models, layers\n",
    "model = models.Sequential()\n",
    "model.add(conv_base)\n",
    "model.add(layers.Flatten())\n",
    "model.add(layers.Dense(256, activation='relu'))\n",
    "model.add(layers.Dense(1, activation='sigmoid'))\n",
    "model.summary()"
   ]
  },
  {
   "cell_type": "markdown",
   "metadata": {},
   "source": [
    "## Freezing the pretrained layer\n",
    "The pretrained dataset needs to be frozen to prevent the weights from being updated during training. Not doing may result in the dense layers on top (which are randomly initialised) updating weights which would then propagate through the network, virtually destorying the represenations previously learned."
   ]
  },
  {
   "cell_type": "code",
   "execution_count": 8,
   "metadata": {},
   "outputs": [
    {
     "name": "stdout",
     "output_type": "stream",
     "text": [
      "This is the number of trainable weights before freezing the conv base:  30\n",
      "This is the number of trainable weights after freezing the conv base:  4\n"
     ]
    }
   ],
   "source": [
    "print('This is the number of trainable weights '\n",
    "     'before freezing the conv base: ', len(model.trainable_weights))\n",
    "conv_base.trainable = False\n",
    "print('This is the number of trainable weights '\n",
    "     'after freezing the conv base: ', len(model.trainable_weights))"
   ]
  },
  {
   "cell_type": "markdown",
   "metadata": {},
   "source": [
    "Four weight tensors are now trainable two per layer (the main weight matrix, and the bias vector).\n",
    "\n",
    "For the updates to take effect you must first compile the model. If you modify the weight trainability after compilation, you should then recompile the model or these changes will be ignored."
   ]
  },
  {
   "cell_type": "code",
   "execution_count": 9,
   "metadata": {},
   "outputs": [
    {
     "name": "stdout",
     "output_type": "stream",
     "text": [
      "Found 2000 images belonging to 2 classes.\n",
      "Found 1000 images belonging to 2 classes.\n",
      "Epoch 1/30\n",
      "100/100 [==============================] - 315s 3s/step - loss: 0.5831 - acc: 0.7035 - val_loss: 0.4551 - val_acc: 0.8000\n",
      "Epoch 2/30\n",
      "100/100 [==============================] - 322s 3s/step - loss: 0.4767 - acc: 0.7940 - val_loss: 0.3725 - val_acc: 0.8420\n",
      "Epoch 3/30\n",
      "100/100 [==============================] - 321s 3s/step - loss: 0.4303 - acc: 0.8065 - val_loss: 0.3317 - val_acc: 0.8590\n",
      "Epoch 4/30\n",
      "100/100 [==============================] - 316s 3s/step - loss: 0.3938 - acc: 0.8295 - val_loss: 0.3124 - val_acc: 0.8650\n",
      "Epoch 5/30\n",
      "100/100 [==============================] - 316s 3s/step - loss: 0.3932 - acc: 0.8300 - val_loss: 0.3113 - val_acc: 0.8630\n",
      "Epoch 6/30\n",
      "100/100 [==============================] - 316s 3s/step - loss: 0.3724 - acc: 0.8405 - val_loss: 0.2908 - val_acc: 0.8850\n",
      "Epoch 7/30\n",
      "100/100 [==============================] - 318s 3s/step - loss: 0.3463 - acc: 0.8585 - val_loss: 0.2821 - val_acc: 0.8890\n",
      "Epoch 8/30\n",
      "100/100 [==============================] - 316s 3s/step - loss: 0.3467 - acc: 0.8475 - val_loss: 0.2793 - val_acc: 0.8800\n",
      "Epoch 9/30\n",
      "100/100 [==============================] - 316s 3s/step - loss: 0.3365 - acc: 0.8575 - val_loss: 0.2751 - val_acc: 0.8920\n",
      "Epoch 10/30\n",
      "100/100 [==============================] - 315s 3s/step - loss: 0.3269 - acc: 0.8545 - val_loss: 0.2677 - val_acc: 0.8910\n",
      "Epoch 11/30\n",
      "100/100 [==============================] - 316s 3s/step - loss: 0.3339 - acc: 0.8475 - val_loss: 0.2678 - val_acc: 0.8910\n",
      "Epoch 12/30\n",
      "100/100 [==============================] - 316s 3s/step - loss: 0.3261 - acc: 0.8605 - val_loss: 0.2597 - val_acc: 0.8920\n",
      "Epoch 13/30\n",
      "100/100 [==============================] - 316s 3s/step - loss: 0.3136 - acc: 0.8670 - val_loss: 0.2565 - val_acc: 0.8940\n",
      "Epoch 14/30\n",
      "100/100 [==============================] - 315s 3s/step - loss: 0.3193 - acc: 0.8565 - val_loss: 0.2630 - val_acc: 0.8900\n",
      "Epoch 15/30\n",
      "100/100 [==============================] - 317s 3s/step - loss: 0.3030 - acc: 0.8700 - val_loss: 0.2542 - val_acc: 0.8980\n",
      "Epoch 16/30\n",
      "100/100 [==============================] - 315s 3s/step - loss: 0.2895 - acc: 0.8710 - val_loss: 0.2622 - val_acc: 0.8910\n",
      "Epoch 17/30\n",
      "100/100 [==============================] - 316s 3s/step - loss: 0.3200 - acc: 0.8645 - val_loss: 0.2567 - val_acc: 0.8890\n",
      "Epoch 18/30\n",
      "100/100 [==============================] - 317s 3s/step - loss: 0.2948 - acc: 0.8700 - val_loss: 0.2541 - val_acc: 0.8970\n",
      "Epoch 19/30\n",
      "100/100 [==============================] - 316s 3s/step - loss: 0.2944 - acc: 0.8705 - val_loss: 0.2665 - val_acc: 0.8910\n",
      "Epoch 20/30\n",
      "100/100 [==============================] - 316s 3s/step - loss: 0.3170 - acc: 0.8495 - val_loss: 0.2537 - val_acc: 0.8930\n",
      "Epoch 21/30\n",
      "100/100 [==============================] - 316s 3s/step - loss: 0.2997 - acc: 0.8735 - val_loss: 0.2545 - val_acc: 0.8980\n",
      "Epoch 22/30\n",
      "100/100 [==============================] - 315s 3s/step - loss: 0.2968 - acc: 0.8785 - val_loss: 0.2603 - val_acc: 0.8940\n",
      "Epoch 23/30\n",
      "100/100 [==============================] - 315s 3s/step - loss: 0.2776 - acc: 0.8765 - val_loss: 0.2520 - val_acc: 0.8990\n",
      "Epoch 24/30\n",
      "100/100 [==============================] - 316s 3s/step - loss: 0.2961 - acc: 0.8735 - val_loss: 0.2502 - val_acc: 0.8970\n",
      "Epoch 25/30\n",
      "100/100 [==============================] - 315s 3s/step - loss: 0.2881 - acc: 0.8715 - val_loss: 0.2523 - val_acc: 0.8920\n",
      "Epoch 26/30\n",
      "100/100 [==============================] - 315s 3s/step - loss: 0.2835 - acc: 0.8795 - val_loss: 0.2484 - val_acc: 0.8990\n",
      "Epoch 27/30\n",
      "100/100 [==============================] - 315s 3s/step - loss: 0.2839 - acc: 0.8845 - val_loss: 0.2468 - val_acc: 0.8960\n",
      "Epoch 28/30\n",
      "100/100 [==============================] - 315s 3s/step - loss: 0.2788 - acc: 0.8805 - val_loss: 0.2481 - val_acc: 0.8980\n",
      "Epoch 29/30\n",
      "100/100 [==============================] - 315s 3s/step - loss: 0.2855 - acc: 0.8825 - val_loss: 0.2430 - val_acc: 0.8940\n",
      "Epoch 30/30\n",
      "100/100 [==============================] - 315s 3s/step - loss: 0.2982 - acc: 0.8635 - val_loss: 0.2544 - val_acc: 0.8950\n"
     ]
    }
   ],
   "source": [
    "## training the model end to end with a frozzen convultional base\n",
    "from keras.preprocessing.image import ImageDataGenerator\n",
    "from keras import optimizers\n",
    "\n",
    "train_datagen = ImageDataGenerator(\n",
    "    rescale=1./255,\n",
    "    rotation_range=40,\n",
    "    width_shift_range=0.2,\n",
    "    height_shift_range=0.2,\n",
    "    shear_range=0.2,\n",
    "    zoom_range=0.2,\n",
    "    horizontal_flip=True,\n",
    "    fill_mode='nearest')\n",
    "\n",
    "test_datagen = ImageDataGenerator(rescale=1./255) #don't augment validation\n",
    "\n",
    "train_generator = train_datagen.flow_from_directory(\n",
    "    train_dir,\n",
    "    target_size=(150, 150),\n",
    "    batch_size=20,\n",
    "    class_mode='binary')\n",
    "\n",
    "validation_generator = test_datagen.flow_from_directory(\n",
    "    validation_dir,\n",
    "    target_size=(150, 150),\n",
    "    batch_size=20,\n",
    "    class_mode='binary')\n",
    "\n",
    "model.compile(loss='binary_crossentropy',\n",
    "             optimizer=optimizers.RMSprop(lr=2e-5),\n",
    "             metrics=['acc'])\n",
    "\n",
    "history = model.fit_generator(\n",
    "    train_generator,\n",
    "    steps_per_epoch=100,\n",
    "    epochs=30,\n",
    "    validation_data=validation_generator,\n",
    "    validation_steps=50)"
   ]
  },
  {
   "cell_type": "code",
   "execution_count": null,
   "metadata": {},
   "outputs": [],
   "source": []
  }
 ],
 "metadata": {
  "kernelspec": {
   "display_name": "Python 3",
   "language": "python",
   "name": "python3"
  },
  "language_info": {
   "codemirror_mode": {
    "name": "ipython",
    "version": 3
   },
   "file_extension": ".py",
   "mimetype": "text/x-python",
   "name": "python",
   "nbconvert_exporter": "python",
   "pygments_lexer": "ipython3",
   "version": "3.6.6"
  }
 },
 "nbformat": 4,
 "nbformat_minor": 2
}
