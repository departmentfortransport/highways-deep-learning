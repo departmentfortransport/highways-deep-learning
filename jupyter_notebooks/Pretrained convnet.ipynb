{
 "cells": [
  {
   "cell_type": "code",
   "execution_count": 1,
   "metadata": {},
   "outputs": [
    {
     "name": "stderr",
     "output_type": "stream",
     "text": [
      "Using TensorFlow backend.\n",
      "/Library/Frameworks/Python.framework/Versions/3.6/lib/python3.6/importlib/_bootstrap.py:219: RuntimeWarning: numpy.dtype size changed, may indicate binary incompatibility. Expected 96, got 88\n",
      "  return f(*args, **kwds)\n",
      "/Library/Frameworks/Python.framework/Versions/3.6/lib/python3.6/importlib/_bootstrap.py:219: RuntimeWarning: numpy.dtype size changed, may indicate binary incompatibility. Expected 96, got 88\n",
      "  return f(*args, **kwds)\n"
     ]
    },
    {
     "name": "stdout",
     "output_type": "stream",
     "text": [
      "_________________________________________________________________\n",
      "Layer (type)                 Output Shape              Param #   \n",
      "=================================================================\n",
      "input_1 (InputLayer)         (None, 150, 150, 3)       0         \n",
      "_________________________________________________________________\n",
      "block1_conv1 (Conv2D)        (None, 150, 150, 64)      1792      \n",
      "_________________________________________________________________\n",
      "block1_conv2 (Conv2D)        (None, 150, 150, 64)      36928     \n",
      "_________________________________________________________________\n",
      "block1_pool (MaxPooling2D)   (None, 75, 75, 64)        0         \n",
      "_________________________________________________________________\n",
      "block2_conv1 (Conv2D)        (None, 75, 75, 128)       73856     \n",
      "_________________________________________________________________\n",
      "block2_conv2 (Conv2D)        (None, 75, 75, 128)       147584    \n",
      "_________________________________________________________________\n",
      "block2_pool (MaxPooling2D)   (None, 37, 37, 128)       0         \n",
      "_________________________________________________________________\n",
      "block3_conv1 (Conv2D)        (None, 37, 37, 256)       295168    \n",
      "_________________________________________________________________\n",
      "block3_conv2 (Conv2D)        (None, 37, 37, 256)       590080    \n",
      "_________________________________________________________________\n",
      "block3_conv3 (Conv2D)        (None, 37, 37, 256)       590080    \n",
      "_________________________________________________________________\n",
      "block3_pool (MaxPooling2D)   (None, 18, 18, 256)       0         \n",
      "_________________________________________________________________\n",
      "block4_conv1 (Conv2D)        (None, 18, 18, 512)       1180160   \n",
      "_________________________________________________________________\n",
      "block4_conv2 (Conv2D)        (None, 18, 18, 512)       2359808   \n",
      "_________________________________________________________________\n",
      "block4_conv3 (Conv2D)        (None, 18, 18, 512)       2359808   \n",
      "_________________________________________________________________\n",
      "block4_pool (MaxPooling2D)   (None, 9, 9, 512)         0         \n",
      "_________________________________________________________________\n",
      "block5_conv1 (Conv2D)        (None, 9, 9, 512)         2359808   \n",
      "_________________________________________________________________\n",
      "block5_conv2 (Conv2D)        (None, 9, 9, 512)         2359808   \n",
      "_________________________________________________________________\n",
      "block5_conv3 (Conv2D)        (None, 9, 9, 512)         2359808   \n",
      "_________________________________________________________________\n",
      "block5_pool (MaxPooling2D)   (None, 4, 4, 512)         0         \n",
      "=================================================================\n",
      "Total params: 14,714,688\n",
      "Trainable params: 14,714,688\n",
      "Non-trainable params: 0\n",
      "_________________________________________________________________\n"
     ]
    }
   ],
   "source": [
    "## example using the pretrained convnet\n",
    "from keras.applications import VGG16\n",
    "\n",
    "conv_base = VGG16(weights='imagenet',\n",
    "                 include_top=False,\n",
    "                 input_shape=(150, 150, 3))\n",
    "\n",
    "conv_base.summary()"
   ]
  },
  {
   "cell_type": "markdown",
   "metadata": {},
   "source": [
    "# Two approaches\n",
    "\n",
    "Running the convolutional base over your dataset will be fast, but won't allow data augmentation.\n",
    "\n",
    "Or\n",
    "\n",
    "Extending the model you have (conv_base) by adding Dense layers on top and running the whole thing end to end on the input data. This will allow data augmentation but is expensive.\n",
    "\n",
    "## Fast feature extraction without data augmentation\n",
    "Using the ImageDataGenerator to extract images as Numpy arrays as well as their labels."
   ]
  },
  {
   "cell_type": "code",
   "execution_count": 2,
   "metadata": {},
   "outputs": [
    {
     "name": "stdout",
     "output_type": "stream",
     "text": [
      "Found 2000 images belonging to 2 classes.\n",
      "Found 1000 images belonging to 2 classes.\n",
      "Found 1000 images belonging to 2 classes.\n"
     ]
    }
   ],
   "source": [
    "import os\n",
    "import numpy as np\n",
    "from keras.preprocessing.image import ImageDataGenerator\n",
    "\n",
    "base_dir = '/Users/datascience4/Documents/cats_and_dogs_small'\n",
    "\n",
    "train_dir = os.path.join(base_dir, 'train')\n",
    "validation_dir = os.path.join(base_dir, 'validation')\n",
    "test_dir = os.path.join(base_dir, 'test')\n",
    "\n",
    "datagen = ImageDataGenerator(rescale=1./255)\n",
    "batch_size = 20\n",
    "\n",
    "def extract_features(directory, sample_count):\n",
    "    features = np.zeros(shape=(sample_count, 4, 4, 512))\n",
    "    labels = np.zeros(shape=(sample_count))\n",
    "    generator = datagen.flow_from_directory(\n",
    "        directory,\n",
    "        target_size=(150, 150),\n",
    "        batch_size=batch_size,\n",
    "        class_mode='binary')\n",
    "    i = 0\n",
    "    for inputs_batch, labels_batch in generator:\n",
    "        features_batch = conv_base.predict(inputs_batch)\n",
    "        features[i * batch_size : (i + 1) * batch_size] = features_batch\n",
    "        labels[i * batch_size : (i + 1) * batch_size] = labels_batch\n",
    "        i += 1\n",
    "        if i * batch_size >= sample_count:\n",
    "            # Note that since generators yield data indefinitely in a loop,\n",
    "            # we must `break` after every image has been seen once.\n",
    "            break\n",
    "    return features, labels\n",
    "\n",
    "train_features, train_labels = extract_features(train_dir, 2000)\n",
    "validation_features, validation_labels = extract_features(validation_dir, 1000)\n",
    "test_features, test_labels = extract_features(test_dir, 1000)"
   ]
  },
  {
   "cell_type": "code",
   "execution_count": 3,
   "metadata": {},
   "outputs": [
    {
     "name": "stdout",
     "output_type": "stream",
     "text": [
      "(1000, 4, 4, 512)\n"
     ]
    }
   ],
   "source": [
    "print(validation_features.shape)"
   ]
  },
  {
   "cell_type": "code",
   "execution_count": 4,
   "metadata": {},
   "outputs": [
    {
     "name": "stdout",
     "output_type": "stream",
     "text": [
      "(1000, 8192)\n"
     ]
    }
   ],
   "source": [
    "## feed them into a dense layer of 8192\n",
    "train_features = np.reshape(train_features, (2000, 4 * 4 * 512))\n",
    "validation_features = np.reshape(validation_features, (1000, 4 * 4 * 512))\n",
    "test_features = np.reshape(test_features, (1000, 4 * 4 * 512))\n",
    "\n",
    "print(validation_features.shape)"
   ]
  },
  {
   "cell_type": "code",
   "execution_count": 5,
   "metadata": {},
   "outputs": [
    {
     "name": "stdout",
     "output_type": "stream",
     "text": [
      "Train on 2000 samples, validate on 1000 samples\n",
      "Epoch 1/30\n",
      "2000/2000 [==============================] - 2s 805us/step - loss: 0.5903 - acc: 0.6830 - val_loss: 0.4438 - val_acc: 0.8210\n",
      "Epoch 2/30\n",
      "2000/2000 [==============================] - 1s 738us/step - loss: 0.4181 - acc: 0.8125 - val_loss: 0.3786 - val_acc: 0.8350\n",
      "Epoch 3/30\n",
      "2000/2000 [==============================] - 1s 666us/step - loss: 0.3515 - acc: 0.8470 - val_loss: 0.3351 - val_acc: 0.8670\n",
      "Epoch 4/30\n",
      "2000/2000 [==============================] - 1s 655us/step - loss: 0.3212 - acc: 0.8625 - val_loss: 0.3135 - val_acc: 0.8700\n",
      "Epoch 5/30\n",
      "2000/2000 [==============================] - 1s 706us/step - loss: 0.2893 - acc: 0.8830 - val_loss: 0.3076 - val_acc: 0.8700\n",
      "Epoch 6/30\n",
      "2000/2000 [==============================] - 1s 630us/step - loss: 0.2641 - acc: 0.8960 - val_loss: 0.2912 - val_acc: 0.8760\n",
      "Epoch 7/30\n",
      "2000/2000 [==============================] - 1s 632us/step - loss: 0.2388 - acc: 0.9125 - val_loss: 0.2831 - val_acc: 0.8800\n",
      "Epoch 8/30\n",
      "2000/2000 [==============================] - 1s 635us/step - loss: 0.2290 - acc: 0.9145 - val_loss: 0.2773 - val_acc: 0.8830\n",
      "Epoch 9/30\n",
      "2000/2000 [==============================] - 1s 633us/step - loss: 0.2114 - acc: 0.9220 - val_loss: 0.2722 - val_acc: 0.8830\n",
      "Epoch 10/30\n",
      "2000/2000 [==============================] - 1s 712us/step - loss: 0.1961 - acc: 0.9290 - val_loss: 0.2729 - val_acc: 0.8770\n",
      "Epoch 11/30\n",
      "2000/2000 [==============================] - 1s 646us/step - loss: 0.1917 - acc: 0.9300 - val_loss: 0.2646 - val_acc: 0.8880\n",
      "Epoch 12/30\n",
      "2000/2000 [==============================] - 1s 667us/step - loss: 0.1827 - acc: 0.9355 - val_loss: 0.2623 - val_acc: 0.8890\n",
      "Epoch 13/30\n",
      "2000/2000 [==============================] - 1s 672us/step - loss: 0.1826 - acc: 0.9340 - val_loss: 0.2610 - val_acc: 0.8890\n",
      "Epoch 14/30\n",
      "2000/2000 [==============================] - 1s 724us/step - loss: 0.1701 - acc: 0.9375 - val_loss: 0.2593 - val_acc: 0.8880\n",
      "Epoch 15/30\n",
      "2000/2000 [==============================] - 1s 640us/step - loss: 0.1598 - acc: 0.9470 - val_loss: 0.2575 - val_acc: 0.8900\n",
      "Epoch 16/30\n",
      "2000/2000 [==============================] - 1s 634us/step - loss: 0.1502 - acc: 0.9455 - val_loss: 0.2553 - val_acc: 0.8870\n",
      "Epoch 17/30\n",
      "2000/2000 [==============================] - 1s 635us/step - loss: 0.1497 - acc: 0.9500 - val_loss: 0.2547 - val_acc: 0.8890\n",
      "Epoch 18/30\n",
      "2000/2000 [==============================] - 1s 638us/step - loss: 0.1436 - acc: 0.9485 - val_loss: 0.2535 - val_acc: 0.8900\n",
      "Epoch 19/30\n",
      "2000/2000 [==============================] - 1s 636us/step - loss: 0.1382 - acc: 0.9560 - val_loss: 0.2535 - val_acc: 0.8900\n",
      "Epoch 20/30\n",
      "2000/2000 [==============================] - 1s 636us/step - loss: 0.1298 - acc: 0.9610 - val_loss: 0.2560 - val_acc: 0.8890\n",
      "Epoch 21/30\n",
      "2000/2000 [==============================] - 1s 651us/step - loss: 0.1256 - acc: 0.9560 - val_loss: 0.2550 - val_acc: 0.8930\n",
      "Epoch 22/30\n",
      "2000/2000 [==============================] - 1s 658us/step - loss: 0.1238 - acc: 0.9605 - val_loss: 0.2533 - val_acc: 0.8900\n",
      "Epoch 23/30\n",
      "2000/2000 [==============================] - 1s 653us/step - loss: 0.1233 - acc: 0.9580 - val_loss: 0.2526 - val_acc: 0.8880\n",
      "Epoch 24/30\n",
      "2000/2000 [==============================] - 1s 661us/step - loss: 0.1082 - acc: 0.9670 - val_loss: 0.2553 - val_acc: 0.8930\n",
      "Epoch 25/30\n",
      "2000/2000 [==============================] - 1s 665us/step - loss: 0.1046 - acc: 0.9675 - val_loss: 0.2552 - val_acc: 0.8910\n",
      "Epoch 26/30\n",
      "2000/2000 [==============================] - 1s 659us/step - loss: 0.1070 - acc: 0.9590 - val_loss: 0.2540 - val_acc: 0.8890\n",
      "Epoch 27/30\n",
      "2000/2000 [==============================] - 1s 657us/step - loss: 0.1008 - acc: 0.9665 - val_loss: 0.2572 - val_acc: 0.8860\n",
      "Epoch 28/30\n",
      "2000/2000 [==============================] - 1s 650us/step - loss: 0.0972 - acc: 0.9650 - val_loss: 0.2571 - val_acc: 0.8930\n",
      "Epoch 29/30\n",
      "2000/2000 [==============================] - 1s 658us/step - loss: 0.0904 - acc: 0.9730 - val_loss: 0.2557 - val_acc: 0.8920\n",
      "Epoch 30/30\n",
      "2000/2000 [==============================] - 1s 659us/step - loss: 0.0920 - acc: 0.9740 - val_loss: 0.2568 - val_acc: 0.8930\n"
     ]
    }
   ],
   "source": [
    "## defining and training the densely connected classifier\n",
    "from keras import models\n",
    "from keras import layers\n",
    "from keras import optimizers\n",
    "\n",
    "model = models.Sequential()\n",
    "model.add(layers.Dense(256, activation='relu', input_dim=4 * 4 * 512))\n",
    "model.add(layers.Dropout(0.5))\n",
    "model.add(layers.Dense(1, activation='sigmoid'))\n",
    "model.compile(optimizer=optimizers.RMSprop(lr=2e-5),\n",
    "             loss='binary_crossentropy',\n",
    "             metrics=['acc'])\n",
    "\n",
    "history = model.fit(train_features, train_labels,\n",
    "                   epochs=30,\n",
    "                   batch_size=20,\n",
    "                   validation_data=(validation_features, validation_labels))"
   ]
  },
  {
   "cell_type": "code",
   "execution_count": 8,
   "metadata": {},
   "outputs": [
    {
     "data": {
      "image/png": "[encoded data removed]",
      "text/plain": [
       "<Figure size 432x288 with 1 Axes>"
      ]
     },
     "metadata": {},
     "output_type": "display_data"
    },
    {
     "data": {
      "image/png": "[encoded data removed]",
      "text/plain": [
       "<Figure size 432x288 with 1 Axes>"
      ]
     },
     "metadata": {},
     "output_type": "display_data"
    }
   ],
   "source": [
    "import matplotlib.pyplot as plt\n",
    "acc = history.history['acc']\n",
    "val_acc = history.history['val_acc']\n",
    "loss = history.history['loss']\n",
    "val_loss = history.history['val_loss']\n",
    "\n",
    "epochs = range(len(acc))\n",
    "\n",
    "plt.plot(epochs, acc, 'bH', label='Training acc')\n",
    "plt.plot(epochs, val_acc, 'b', label='Validation acc')\n",
    "plt.title('Training and validation accuracy pretrained')\n",
    "plt.legend()\n",
    "\n",
    "plt.figure()\n",
    "\n",
    "plt.plot(epochs, loss, 'bH', label='Training loss')\n",
    "plt.plot(epochs, val_loss, 'b', label='Validation loss')\n",
    "plt.title('Training and validation loss pretrained')\n",
    "plt.legend()\n",
    "\n",
    "plt.show()"
   ]
  },
  {
   "cell_type": "markdown",
   "metadata": {},
   "source": [
    "## Still overfitting\n",
    "The technique above is overfitting from the beginning. Therefore data augmentation would be useful on a small dataset like this but it would now become computationally expensive. Therefore a GPU is recommended from this point onwards.\n",
    "\n",
    "You can the pretrained model to a Sequential model because they behave in a similar way to a layer."
   ]
  },
  {
   "cell_type": "code",
   "execution_count": null,
   "metadata": {},
   "outputs": [],
   "source": []
  }
 ],
 "metadata": {
  "kernelspec": {
   "display_name": "Python 3",
   "language": "python",
   "name": "python3"
  },
  "language_info": {
   "codemirror_mode": {
    "name": "ipython",
    "version": 3
   },
   "file_extension": ".py",
   "mimetype": "text/x-python",
   "name": "python",
   "nbconvert_exporter": "python",
   "pygments_lexer": "ipython3",
   "version": "3.6.6"
  }
 },
 "nbformat": 4,
 "nbformat_minor": 2
}
