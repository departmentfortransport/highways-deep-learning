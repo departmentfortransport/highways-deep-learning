{
 "cells": [
  {
   "cell_type": "code",
   "execution_count": 1,
   "metadata": {},
   "outputs": [
    {
     "name": "stderr",
     "output_type": "stream",
     "text": [
      "Using TensorFlow backend.\n",
      "/Library/Frameworks/Python.framework/Versions/3.6/lib/python3.6/importlib/_bootstrap.py:219: RuntimeWarning: numpy.dtype size changed, may indicate binary incompatibility. Expected 96, got 88\n",
      "  return f(*args, **kwds)\n",
      "/Library/Frameworks/Python.framework/Versions/3.6/lib/python3.6/importlib/_bootstrap.py:219: RuntimeWarning: numpy.dtype size changed, may indicate binary incompatibility. Expected 96, got 88\n",
      "  return f(*args, **kwds)\n"
     ]
    },
    {
     "name": "stdout",
     "output_type": "stream",
     "text": [
      "_________________________________________________________________\n",
      "Layer (type)                 Output Shape              Param #   \n",
      "=================================================================\n",
      "input_1 (InputLayer)         (None, 150, 150, 3)       0         \n",
      "_________________________________________________________________\n",
      "block1_conv1 (Conv2D)        (None, 150, 150, 64)      1792      \n",
      "_________________________________________________________________\n",
      "block1_conv2 (Conv2D)        (None, 150, 150, 64)      36928     \n",
      "_________________________________________________________________\n",
      "block1_pool (MaxPooling2D)   (None, 75, 75, 64)        0         \n",
      "_________________________________________________________________\n",
      "block2_conv1 (Conv2D)        (None, 75, 75, 128)       73856     \n",
      "_________________________________________________________________\n",
      "block2_conv2 (Conv2D)        (None, 75, 75, 128)       147584    \n",
      "_________________________________________________________________\n",
      "block2_pool (MaxPooling2D)   (None, 37, 37, 128)       0         \n",
      "_________________________________________________________________\n",
      "block3_conv1 (Conv2D)        (None, 37, 37, 256)       295168    \n",
      "_________________________________________________________________\n",
      "block3_conv2 (Conv2D)        (None, 37, 37, 256)       590080    \n",
      "_________________________________________________________________\n",
      "block3_conv3 (Conv2D)        (None, 37, 37, 256)       590080    \n",
      "_________________________________________________________________\n",
      "block3_pool (MaxPooling2D)   (None, 18, 18, 256)       0         \n",
      "_________________________________________________________________\n",
      "block4_conv1 (Conv2D)        (None, 18, 18, 512)       1180160   \n",
      "_________________________________________________________________\n",
      "block4_conv2 (Conv2D)        (None, 18, 18, 512)       2359808   \n",
      "_________________________________________________________________\n",
      "block4_conv3 (Conv2D)        (None, 18, 18, 512)       2359808   \n",
      "_________________________________________________________________\n",
      "block4_pool (MaxPooling2D)   (None, 9, 9, 512)         0         \n",
      "_________________________________________________________________\n",
      "block5_conv1 (Conv2D)        (None, 9, 9, 512)         2359808   \n",
      "_________________________________________________________________\n",
      "block5_conv2 (Conv2D)        (None, 9, 9, 512)         2359808   \n",
      "_________________________________________________________________\n",
      "block5_conv3 (Conv2D)        (None, 9, 9, 512)         2359808   \n",
      "_________________________________________________________________\n",
      "block5_pool (MaxPooling2D)   (None, 4, 4, 512)         0         \n",
      "=================================================================\n",
      "Total params: 14,714,688\n",
      "Trainable params: 14,714,688\n",
      "Non-trainable params: 0\n",
      "_________________________________________________________________\n"
     ]
    }
   ],
   "source": [
    "## example using the pretrained convnet\n",
    "from keras.applications import VGG16\n",
    "\n",
    "conv_base = VGG16(weights='imagenet',\n",
    "                 include_top=False,\n",
    "                 input_shape=(150, 150, 3))\n",
    "\n",
    "conv_base.summary()"
   ]
  },
  {
   "cell_type": "markdown",
   "metadata": {},
   "source": [
    "# Two approaches\n",
    "\n",
    "Running the convolutional base over your dataset will be fast, but won't allow data augmentation.\n",
    "\n",
    "Or\n",
    "\n",
    "Extending the model you have (conv_base) by adding Dense layers on top and running the whole thing end to end on the input data. This will allow data augmentation but is expensive.\n",
    "\n",
    "## Fast feature extraction without data augmentation\n",
    "Using the ImageDataGenerator to extract images as Numpy arrays as well as their labels."
   ]
  },
  {
   "cell_type": "code",
   "execution_count": 2,
   "metadata": {},
   "outputs": [
    {
     "name": "stdout",
     "output_type": "stream",
     "text": [
      "Found 2000 images belonging to 2 classes.\n",
      "Found 1000 images belonging to 2 classes.\n",
      "Found 1000 images belonging to 2 classes.\n"
     ]
    }
   ],
   "source": [
    "import os\n",
    "import numpy as np\n",
    "from keras.preprocessing.image import ImageDataGenerator\n",
    "\n",
    "base_dir = '/Users/datascience4/Documents/cats_and_dogs_small'\n",
    "\n",
    "train_dir = os.path.join(base_dir, 'train')\n",
    "validation_dir = os.path.join(base_dir, 'validation')\n",
    "test_dir = os.path.join(base_dir, 'test')\n",
    "\n",
    "datagen = ImageDataGenerator(rescale=1./255)\n",
    "batch_size = 20\n",
    "\n",
    "def extract_features(directory, sample_count):\n",
    "    features = np.zeros(shape=(sample_count, 4, 4, 512))\n",
    "    labels = np.zeros(shape=(sample_count))\n",
    "    generator = datagen.flow_from_directory(\n",
    "        directory,\n",
    "        target_size=(150, 150),\n",
    "        batch_size=batch_size,\n",
    "        class_mode='binary')\n",
    "    i = 0\n",
    "    for inputs_batch, labels_batch in generator:\n",
    "        features_batch = conv_base.predict(inputs_batch)\n",
    "        features[i * batch_size : (i + 1) * batch_size] = features_batch\n",
    "        labels[i * batch_size : (i + 1) * batch_size] = labels_batch\n",
    "        i += 1\n",
    "        if i * batch_size >= sample_count:\n",
    "            # Note that since generators yield data indefinitely in a loop,\n",
    "            # we must `break` after every image has been seen once.\n",
    "            break\n",
    "    return features, labels\n",
    "\n",
    "train_features, train_labels = extract_features(train_dir, 2000)\n",
    "validation_features, validation_labels = extract_features(validation_dir, 1000)\n",
    "test_features, test_labels = extract_features(test_dir, 1000)"
   ]
  },
  {
   "cell_type": "code",
   "execution_count": 3,
   "metadata": {},
   "outputs": [
    {
     "name": "stdout",
     "output_type": "stream",
     "text": [
      "(1000, 4, 4, 512)\n"
     ]
    }
   ],
   "source": [
    "print(validation_features.shape)"
   ]
  },
  {
   "cell_type": "code",
   "execution_count": 4,
   "metadata": {},
   "outputs": [
    {
     "name": "stdout",
     "output_type": "stream",
     "text": [
      "(1000, 8192)\n"
     ]
    }
   ],
   "source": [
    "## feed them into a dense layer of 8192\n",
    "train_features = np.reshape(train_features, (2000, 4 * 4 * 512))\n",
    "validation_features = np.reshape(validation_features, (1000, 4 * 4 * 512))\n",
    "test_features = np.reshape(test_features, (1000, 4 * 4 * 512))\n",
    "\n",
    "print(validation_features.shape)"
   ]
  },
  {
   "cell_type": "code",
   "execution_count": 6,
   "metadata": {},
   "outputs": [
    {
     "name": "stdout",
     "output_type": "stream",
     "text": [
      "Train on 2000 samples, validate on 1000 samples\n",
      "Epoch 1/30\n",
      "2000/2000 [==============================] - 2s 826us/step - loss: 0.5976 - acc: 0.6715 - val_loss: 0.4621 - val_acc: 0.8080\n",
      "Epoch 2/30\n",
      "2000/2000 [==============================] - 1s 639us/step - loss: 0.4354 - acc: 0.8090 - val_loss: 0.3808 - val_acc: 0.8380\n",
      "Epoch 3/30\n",
      "2000/2000 [==============================] - 1s 641us/step - loss: 0.3566 - acc: 0.8480 - val_loss: 0.3433 - val_acc: 0.8540\n",
      "Epoch 4/30\n",
      "2000/2000 [==============================] - 1s 670us/step - loss: 0.3200 - acc: 0.8665 - val_loss: 0.3329 - val_acc: 0.8580\n",
      "Epoch 5/30\n",
      "2000/2000 [==============================] - 1s 741us/step - loss: 0.2984 - acc: 0.8730 - val_loss: 0.3069 - val_acc: 0.8640\n",
      "Epoch 6/30\n",
      "2000/2000 [==============================] - 1s 649us/step - loss: 0.2707 - acc: 0.8945 - val_loss: 0.2978 - val_acc: 0.8680\n",
      "Epoch 7/30\n",
      "2000/2000 [==============================] - 1s 643us/step - loss: 0.2516 - acc: 0.9045 - val_loss: 0.2949 - val_acc: 0.8720\n",
      "Epoch 8/30\n",
      "2000/2000 [==============================] - 1s 644us/step - loss: 0.2376 - acc: 0.9120 - val_loss: 0.2886 - val_acc: 0.8760\n",
      "Epoch 9/30\n",
      "2000/2000 [==============================] - 1s 648us/step - loss: 0.2225 - acc: 0.9125 - val_loss: 0.2790 - val_acc: 0.8760\n",
      "Epoch 10/30\n",
      "2000/2000 [==============================] - 1s 682us/step - loss: 0.2144 - acc: 0.9190 - val_loss: 0.2747 - val_acc: 0.8770\n",
      "Epoch 11/30\n",
      "2000/2000 [==============================] - 1s 641us/step - loss: 0.2001 - acc: 0.9290 - val_loss: 0.2725 - val_acc: 0.8780\n",
      "Epoch 12/30\n",
      "2000/2000 [==============================] - 1s 637us/step - loss: 0.1934 - acc: 0.9300 - val_loss: 0.2699 - val_acc: 0.8810\n",
      "Epoch 13/30\n",
      "2000/2000 [==============================] - 1s 629us/step - loss: 0.1835 - acc: 0.9295 - val_loss: 0.2670 - val_acc: 0.8800\n",
      "Epoch 14/30\n",
      "2000/2000 [==============================] - 1s 640us/step - loss: 0.1704 - acc: 0.9410 - val_loss: 0.2656 - val_acc: 0.8820\n",
      "Epoch 15/30\n",
      "2000/2000 [==============================] - 1s 637us/step - loss: 0.1661 - acc: 0.9365 - val_loss: 0.2721 - val_acc: 0.8810\n",
      "Epoch 16/30\n",
      "2000/2000 [==============================] - 1s 641us/step - loss: 0.1575 - acc: 0.9460 - val_loss: 0.2646 - val_acc: 0.8780\n",
      "Epoch 17/30\n",
      "2000/2000 [==============================] - 1s 629us/step - loss: 0.1552 - acc: 0.9450 - val_loss: 0.2611 - val_acc: 0.8820\n",
      "Epoch 18/30\n",
      "2000/2000 [==============================] - 1s 623us/step - loss: 0.1471 - acc: 0.9455 - val_loss: 0.2610 - val_acc: 0.8830\n",
      "Epoch 19/30\n",
      "2000/2000 [==============================] - 1s 629us/step - loss: 0.1391 - acc: 0.9480 - val_loss: 0.2696 - val_acc: 0.8840\n",
      "Epoch 20/30\n",
      "2000/2000 [==============================] - 1s 637us/step - loss: 0.1352 - acc: 0.9505 - val_loss: 0.2594 - val_acc: 0.8880\n",
      "Epoch 21/30\n",
      "2000/2000 [==============================] - 1s 635us/step - loss: 0.1260 - acc: 0.9580 - val_loss: 0.2584 - val_acc: 0.8860\n",
      "Epoch 22/30\n",
      "2000/2000 [==============================] - 1s 639us/step - loss: 0.1245 - acc: 0.9590 - val_loss: 0.2580 - val_acc: 0.8850\n",
      "Epoch 23/30\n",
      "2000/2000 [==============================] - 1s 643us/step - loss: 0.1211 - acc: 0.9585 - val_loss: 0.2603 - val_acc: 0.8810\n",
      "Epoch 24/30\n",
      "2000/2000 [==============================] - 1s 656us/step - loss: 0.1165 - acc: 0.9570 - val_loss: 0.2592 - val_acc: 0.8850\n",
      "Epoch 25/30\n",
      "2000/2000 [==============================] - 1s 638us/step - loss: 0.1133 - acc: 0.9605 - val_loss: 0.2629 - val_acc: 0.8830\n",
      "Epoch 26/30\n",
      "2000/2000 [==============================] - 1s 634us/step - loss: 0.1070 - acc: 0.9700 - val_loss: 0.2592 - val_acc: 0.8870\n",
      "Epoch 27/30\n",
      "2000/2000 [==============================] - 1s 649us/step - loss: 0.1031 - acc: 0.9720 - val_loss: 0.2663 - val_acc: 0.8830\n",
      "Epoch 28/30\n",
      "2000/2000 [==============================] - 1s 688us/step - loss: 0.0988 - acc: 0.9720 - val_loss: 0.2616 - val_acc: 0.8860\n",
      "Epoch 29/30\n",
      "2000/2000 [==============================] - 1s 663us/step - loss: 0.0962 - acc: 0.9665 - val_loss: 0.2595 - val_acc: 0.8890\n",
      "Epoch 30/30\n",
      "2000/2000 [==============================] - 1s 634us/step - loss: 0.0898 - acc: 0.9735 - val_loss: 0.2604 - val_acc: 0.8890\n"
     ]
    }
   ],
   "source": [
    "## defining and training the densely connected classifier\n",
    "from keras import models\n",
    "from keras import layers\n",
    "from keras import optimizers\n",
    "\n",
    "model = models.Sequential()\n",
    "model.add(layers.Dense(256, activation='relu', input_dim=4 * 4 * 512))\n",
    "model.add(layers.Dropout(0.5))\n",
    "model.add(layers.Dense(1, activation='sigmoid'))\n",
    "model.compile(optimizer=optimizers.RMSprop(lr=2e-5),\n",
    "             loss='binary_crossentropy',\n",
    "             metrics=['acc'])\n",
    "\n",
    "history = model.fit(train_features, train_labels,\n",
    "                   epochs=30,\n",
    "                   batch_size=20,\n",
    "                   validation_data=(validation_features, validation_labels))"
   ]
  },
  {
   "cell_type": "code",
   "execution_count": null,
   "metadata": {},
   "outputs": [],
   "source": []
  }
 ],
 "metadata": {
  "kernelspec": {
   "display_name": "Python 3",
   "language": "python",
   "name": "python3"
  },
  "language_info": {
   "codemirror_mode": {
    "name": "ipython",
    "version": 3
   },
   "file_extension": ".py",
   "mimetype": "text/x-python",
   "name": "python",
   "nbconvert_exporter": "python",
   "pygments_lexer": "ipython3",
   "version": "3.6.6"
  }
 },
 "nbformat": 4,
 "nbformat_minor": 2
}
