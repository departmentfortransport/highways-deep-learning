{
 "cells": [
  {
   "cell_type": "markdown",
   "metadata": {},
   "source": [
    "# Cats vs Dogs\n",
    "\n",
    "The purpose of this is to train a convnet from scratch using a small dataset. The data is from the Kaggle website and was a competition ran around September 2013.\n",
    "\n",
    "## Extract the images from the file"
   ]
  },
  {
   "cell_type": "code",
   "execution_count": 3,
   "metadata": {
    "scrolled": true
   },
   "outputs": [
    {
     "name": "stdout",
     "output_type": "stream",
     "text": [
      "Process skipped as content exists.\n"
     ]
    }
   ],
   "source": [
    "import os, shutil\n",
    "\n",
    "original_dataset_dir = '/Users/datascience4/Downloads/kaggle_cats_and_dogs/train'\n",
    "\n",
    "#new directory for a smaller dataset than what is packed in kaggle dataset.\n",
    "base_dir = '/Users/datascience4/Documents/cats_and_dogs_small'\n",
    "train_dir = os.path.join(base_dir, 'train')\n",
    "test_dir = os.path.join(base_dir, 'test')\n",
    "validation_dir = os.path.join(base_dir, 'validation')\n",
    "train_cats_dir = os.path.join(train_dir, 'cats')\n",
    "train_dogs_dir = os.path.join(train_dir, 'dogs')\n",
    "test_cats_dir = os.path.join(test_dir, 'cats')\n",
    "test_dogs_dir = os.path.join(test_dir, 'dogs')\n",
    "validation_cats_dir = os.path.join(validation_dir, 'cats')\n",
    "validation_dogs_dir = os.path.join(validation_dir, 'dogs')\n",
    "## training set for the training validation and test splits\n",
    "## this will be broken down as:\n",
    "## training set 1000 samples (images) of each class (2000 total)\n",
    "## validation set of 500 samples (images) of each class (1000 total)\n",
    "## test set of 500 samples (images) of each class (1000 total)\n",
    "\n",
    "try:\n",
    "    os.mkdir(base_dir)\n",
    "    #make the train test and validation directories.\n",
    "    os.mkdir(train_dir)\n",
    "    os.mkdir(test_dir)\n",
    "    os.mkdir(validation_dir)\n",
    "    os.mkdir(train_cats_dir)\n",
    "    os.mkdir(train_dogs_dir)\n",
    "    os.mkdir(test_cats_dir)\n",
    "    os.mkdir(test_dogs_dir)\n",
    "    os.mkdir(validation_cats_dir)\n",
    "    os.mkdir(validation_dogs_dir)\n",
    "    \n",
    "except FileExistsError:\n",
    "    \n",
    "    print('Process skipped as content exists.')\n",
    "    \n"
   ]
  },
  {
   "cell_type": "code",
   "execution_count": 4,
   "metadata": {},
   "outputs": [],
   "source": [
    "#take the files in the folder and put them into train, validation, and test the respective files\n",
    "## using list comprehensions in a fast way to match the format on the files\n",
    "## f is short hand new in 3.6 python pep498 formatted string literals\n",
    "\n",
    "# training cats directory\n",
    "fnames = [f'cat.{i}.jpg' for i in range(1000)]\n",
    "for fname in fnames:\n",
    "    src = os.path.join(original_dataset_dir, fname)\n",
    "    dest = os.path.join(train_cats_dir, fname)\n",
    "    shutil.copyfile(src, dest)\n",
    "\n",
    "# test cats directory\n",
    "fnames = [f'cat.{i}.jpg' for i in range(1000, 1500)]\n",
    "for fname in fnames:\n",
    "    src = os.path.join(original_dataset_dir, fname)\n",
    "    dest = os.path.join(test_cats_dir, fname)\n",
    "    shutil.copyfile(src, dest)\n",
    "\n",
    "# validation cats directory\n",
    "fnames = [f'cat.{i}.jpg' for i in range(1500, 2000)]\n",
    "for fname in fnames:\n",
    "    src = os.path.join(original_dataset_dir, fname)\n",
    "    dest = os.path.join(validation_cats_dir, fname)\n",
    "    shutil.copyfile(src, dest)\n",
    "\n",
    "#training dogs directory\n",
    "fnames = [f'dog.{i}.jpg' for i in range(1000)]\n",
    "for fname in fnames:\n",
    "    src = os.path.join(original_dataset_dir, fname)\n",
    "    dest = os.path.join(train_dogs_dir, fname)\n",
    "    shutil.copyfile(src, dest)\n",
    "\n",
    "#test dogs directory\n",
    "fnames = [f'dog.{i}.jpg' for i in range(1000, 1500)]\n",
    "for fname in fnames:\n",
    "    src = os.path.join(original_dataset_dir, fname)\n",
    "    dest = os.path.join(test_dogs_dir, fname)\n",
    "    shutil.copyfile(src, dest)\n",
    "    \n",
    "#validation dogs directory\n",
    "fnames = [f'dog.{i}.jpg' for i in range(1500, 2000)]\n",
    "for fname in fnames:\n",
    "    src = os.path.join(original_dataset_dir, fname)\n",
    "    dest = os.path.join(validation_dogs_dir, fname)\n",
    "    shutil.copyfile(src, dest)"
   ]
  },
  {
   "cell_type": "code",
   "execution_count": 5,
   "metadata": {},
   "outputs": [
    {
     "name": "stdout",
     "output_type": "stream",
     "text": [
      "total training cat images 1000\n",
      "total test cat images 500\n",
      "total validation cat images 500\n",
      "total training dog images 1000\n",
      "total test dog images 500\n",
      "total validation dog images 500\n"
     ]
    }
   ],
   "source": [
    "print('total training cat images', len(os.listdir(train_cats_dir)))\n",
    "print('total test cat images', len(os.listdir(test_cats_dir)))\n",
    "print('total validation cat images', len(os.listdir(validation_cats_dir)))\n",
    "print('total training dog images', len(os.listdir(train_dogs_dir)))\n",
    "print('total test dog images', len(os.listdir(test_dogs_dir)))\n",
    "print('total validation dog images', len(os.listdir(validation_dogs_dir)))"
   ]
  },
  {
   "cell_type": "code",
   "execution_count": null,
   "metadata": {},
   "outputs": [],
   "source": []
  }
 ],
 "metadata": {
  "kernelspec": {
   "display_name": "Python 3",
   "language": "python",
   "name": "python3"
  },
  "language_info": {
   "codemirror_mode": {
    "name": "ipython",
    "version": 3
   },
   "file_extension": ".py",
   "mimetype": "text/x-python",
   "name": "python",
   "nbconvert_exporter": "python",
   "pygments_lexer": "ipython3",
   "version": "3.6.6"
  }
 },
 "nbformat": 4,
 "nbformat_minor": 2
}
